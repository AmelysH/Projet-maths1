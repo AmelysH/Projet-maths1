{
 "cells": [
  {
   "cell_type": "markdown",
   "metadata": {},
   "source": [
    "# Projet de Maths 1"
   ]
  },
  {
   "cell_type": "markdown",
   "metadata": {},
   "source": [
    "## Contexte"
   ]
  },
  {
   "cell_type": "markdown",
   "metadata": {},
   "source": [
    "On se donne une fonction $f: \\mathbb{R}^2 \\to \\mathbb{R}$ continument différentiable. Notre objectif est de créer une fonction qui permet de tracer un contour pour une valeur $c$ donnée."
   ]
  },
  {
   "cell_type": "markdown",
   "metadata": {},
   "source": [
    "## Amorce "
   ]
  },
  {
   "cell_type": "markdown",
   "metadata": {},
   "source": [
    "On suppose ici $f$ définie sur $[0,1]^2$. On veut tout d'abord trouver un point de départ sur le coté gauche du carré pour tracer notre contour. Pour cela, on cherche un $y \\in [0,1]$ tel que $f(0,y)=c$. \n",
    "On procède par dichotomie et l'on impose donc à $f$ de vérifier : $c \\in [f(0,0),f(0,1)] $ ou $c \\in [f(0,1),f(0,0)]$ ."
   ]
  },
  {
   "cell_type": "markdown",
   "metadata": {},
   "source": [
    "### Principe de la dichotomie"
   ]
  },
  {
   "cell_type": "markdown",
   "metadata": {},
   "source": [
    "Puisque f est continuement différentiable, elle est en particulier continue. Avec la condition que l'on impose, on peut donc utiliser le théorème des valeurs intermédiaires sur $g$ définie par : $g : x \\in [0,1] \\mapsto f(0,x)$. On en déduit qu'il existe $t$ dans $[0,1]$ tel que $g(t)=c$. On a donc : $t \\in [0, \\frac{1}{2}]$ ou $t \\in [\\frac{1}{2},1]$. Puis on réitère le raisonnement sur le segement auquel appartient $t$. Puisqu'on diminue par 2 la longueur du segment à chaque étape, on va converger vers un point."
   ]
  },
  {
   "cell_type": "code",
   "execution_count": null,
   "metadata": {},
   "outputs": [],
   "source": [
    "def find_seed(g,c=0,debut=0,fin=1,eps=2**(-26)):\n",
    "    if g(debut)<=c<=g(fin) or g(fin)<=c<=g(debut):  #On vérifie que la condition est vérifiée.\n",
    "        a=debut\n",
    "        b=fin\n",
    "    else :\n",
    "        return None\n",
    "    while abs(g((a+b)/2)-c)>eps:    #On choisit comme condition d'arrêt que l'image par g de la valeur que l'on renvoie soit espacée d'au plus epsilon de c.\n",
    "        milieu=(a+b)/2              \n",
    "        if g(a)<=c<=g(milieu) or g(a)>=c>=g(milieu):    # On cherche si t est dans [a, milieu] ou pas \n",
    "            b=milieu\n",
    "        else :\n",
    "            a=milieu\n",
    "    return float((a+b)/2)"
   ]
  },
  {
   "cell_type": "markdown",
   "metadata": {},
   "source": [
    "### Exemple"
   ]
  },
  {
   "cell_type": "markdown",
   "metadata": {},
   "source": [
    "0n teste notre fonction sur $f : x \\mapsto x^2 -2$. On va obtenir une valeur approchée à eps de $\\sqrt{2}$."
   ]
  },
  {
   "cell_type": "code",
   "execution_count": null,
   "metadata": {},
   "outputs": [],
   "source": [
    "def f_1(x):\n",
    "    return x**2 -2\n",
    "\n",
    "find_seed(f_1,0,1,2)"
   ]
  },
  {
   "cell_type": "markdown",
   "metadata": {},
   "source": [
    "## Contour simple "
   ]
  },
  {
   "cell_type": "markdown",
   "metadata": {},
   "source": [
    "On peut maintenant, à partir de la fonction précédente qui nous donne un point de départ, trouver un fragment de ligne de niveau.\n",
    "On procède de la manière suivante : à partir du point que l'on vient de trouver, on calcule le gradient de $f$ en ce point puis un vecteur normal au gradient de norme $\\delta$, puis on se dirige dans la direction du vecteur normal au gradient (ou dans la direction opposée si l'on sort du carré). Ainsi, on obtient une liste de points espacés de $\\delta$ qui sont censés vérifier $f(x,y)=c$."
   ]
  },
  {
   "cell_type": "code",
   "execution_count": null,
   "metadata": {},
   "outputs": [],
   "source": [
    "import autograd\n",
    "from autograd import numpy as np\n",
    "import matplotlib.pyplot as plt\n",
    "\n",
    "def simple_contour(f,c=0.0,delta=0.01,nb_point=100):\n",
    "\n",
    "    def grad_f(x,y):                          # calcule le gradient de f à partir de autograd\n",
    "        gr=autograd.grad\n",
    "        return np.r_[gr(f,0)(x,y),gr(f,1)(x,y)]\n",
    "\n",
    "    def g(t):                                # pour calculer le point de départ du contour sur le coté gauche\n",
    "        return f(0,t)\n",
    "\n",
    "    x=[0.0]                                    # point de départ\n",
    "    y=[find_seed(g,c)]\n",
    "\n",
    "    if y[0]==None:                   #si l'on n'a pas trouvé de point de départ\n",
    "        return [],[]\n",
    "\n",
    "    for i in range(nb_point):                 # on limte le nombre de points que l'on cherche pour avoir un programme qui finit\n",
    "        grad=grad_f(x[i],y[i])                # on calcule le gradient au dernier point que l'on a trouvé\n",
    "        aux=[grad[1],-grad[0]]                # puis un vecteur auxiliaire normal au gradient\n",
    "        norme_aux=np.sqrt(aux[0]**2+aux[1]**2)  # puis sa norme pour le renormaliser\n",
    "        vect_orthon=[delta/norme_aux*aux[0],delta/norme_aux*aux[1]]   # on calcule un vecteur normal au gradient de norme delta\n",
    "\n",
    "        posx=x[i]+vect_orthon[0]      # abscisse du potentiel point suivant\n",
    "        posy=y[i]+vect_orthon[1]      # ordonnée du potentiel point suivant\n",
    "\n",
    "\n",
    "        if posx>1 or posx<0 or posy>1 or posy<0: # si jamais on sort du carré, on part dans l'autre direction\n",
    "            posx=posx-2*vect_orthon[0]\n",
    "            posy=posy-2*vect_orthon[1]\n",
    "            \n",
    "            if posx>1 or posx<0 or posy>1 or posy<0:  # si l'on sort encore, on s'arrête\n",
    "                return x,y\n",
    "       \n",
    "        x.append(posx)    # on ajoute le nouveau point à la liste\n",
    "        y.append(posy)\n",
    "    \n",
    "    return x,y    #on retourne le fragment de contour\n"
   ]
  },
  {
   "cell_type": "markdown",
   "metadata": {},
   "source": [
    "### Test "
   ]
  },
  {
   "cell_type": "code",
   "execution_count": null,
   "metadata": {},
   "outputs": [],
   "source": [
    "def f_test(x,y):\n",
    "    return np.power(x,2)+np.power(y,2)"
   ]
  },
  {
   "cell_type": "code",
   "execution_count": null,
   "metadata": {},
   "outputs": [],
   "source": [
    "# Regardons l'aspect de la fonction \n",
    "from mpl_toolkits.mplot3d import Axes3D\n",
    "%matplotlib inline\n",
    "import matplotlib\n",
    "import matplotlib.pyplot as plt\n",
    "\n",
    "domain_x=np.linspace(-10,10,100)\n",
    "domain_y=np.linspace(-10,10,100)\n",
    "\n",
    "X,Y=np.meshgrid(domain_x, domain_y)      # Création de la grille\n",
    "\n",
    "Z=f_test(X,Y)                            # création des valeurs \n",
    "\n",
    "fig=plt.figure()\n",
    "ax=Axes3D(fig)\n",
    "ax.plot_surface(X, Y, Z)                 # Tracé de la fonction"
   ]
  },
  {
   "cell_type": "code",
   "execution_count": null,
   "metadata": {},
   "outputs": [],
   "source": [
    "# Puis essayons de tracer une ligne de niveau\n",
    "\n",
    "plt.close()\n",
    "x,y=simple_contour(f_test,0.01)\n",
    "plt.plot(x,y)\n",
    "plt.show()"
   ]
  },
  {
   "cell_type": "markdown",
   "metadata": {},
   "source": [
    "On contaste que le programme ne renvoie pas le résultat attendu ce qui est dû au fait que le vecteur noramal au gradient donne une direction dans laquelle il peut y avoir un point sur le contour mais c'est assez approximatif.\n",
    "Pour ressoudre ce problème, on a essayé de calculer les points suivants en mettant une bouce while avec la condition d'arrêt : $\\mid f(x,y)-c \\mid \\leq \\frac{\\mid c \\mid}{100}$ pour ne pas trop s'éloigner de la ligne de niveau mais nous obtenions pas de résultats satisfaisants non plus car le programme n'effectuait qu'une dizaine d'étape dans le meilleur des cas."
   ]
  },
  {
   "cell_type": "markdown",
   "metadata": {},
   "source": [
    "Nous avons donc décider de changer de méthode et d'utiliser find_seed à chaque étape sur un segment du carré donné par le gradient. Pour être plus précis, on prend le point potentiel suivant en utilisant un vecteur orthogonal au gradient (on le choisit de sorte que l'on \"avance\" en calculant un certain produit scalaire) puis on cherche sur le segement du carré passant par ce point et parallèle au gradient pour $x$ dans $[posx-\\delta,posx + \\delta]$. Ainsi le point suivant $(x,y)$ vérifie $f(x,y)=c$ (à epsilon près) et il est éloigné d'approximativement $\\delta$ du point d'avant. "
   ]
  },
  {
   "cell_type": "code",
   "execution_count": null,
   "metadata": {},
   "outputs": [],
   "source": [
    "def simple_contour(f,c=0.0,delta=0.01):\n",
    "\n",
    "    def grad_f(x,y):\n",
    "        gr=autograd.grad\n",
    "        return [gr(f,0)(x,y),gr(f,1)(x,y)]\n",
    "\n",
    "    def g(t):\n",
    "        return f(0,t)\n",
    "\n",
    "    x=[0.0]\n",
    "    y=[find_seed(g,c)]\n",
    "\n",
    "    i=0\n",
    "    \n",
    "    while True:            # On boucle tant qu'on ne sort pas du carré\n",
    "        if x[-1]==None or y[-1]==None:\n",
    "            return x[:-1],y[:-1]\n",
    "        grad=grad_f(x[-1],y[-1])\n",
    "        aux=[grad[1],-grad[0]]\n",
    "        norme_aux=np.sqrt(aux[0]**2+aux[1]**2)\n",
    "        vect_orthon=[delta/norme_aux*aux[0],delta/norme_aux*aux[1]]     #direction normale au gradient\n",
    "        posx=x[-1]+vect_orthon[0]       #nouveau point autour duquel cherché\n",
    "        posy=y[-1]+vect_orthon[1]\n",
    "\n",
    "        if i==0:\n",
    "            if posx>1 or posx<0 or posy>1 or posy<0:    #si on est sorti du carré, on change de direction : on part dans l'autre direction pour                                                             #revenir dans le carré\n",
    "                posx=posx-2*vect_orthon[0]\n",
    "                posy=posy-2*vect_orthon[1]\n",
    "                if posx>1 or posx<0 or posy>1 or posy<0:    #si on sort encore du carré, le fragment est fini\n",
    "                    return x,y\n",
    "\n",
    "        elif i>=1 :\n",
    "            if vect_orthon[0]*(x[i]-x[i-1])+vect_orthon[1]*(y[i]-y[i-1])<0:    #produit scalaire du gradient et de l'écart entre les positions                                                                                     #négatif --> il faut changer de direction pour ne pas revenir en                                                                                    #arrière\n",
    "                posx=posx-2*vect_orthon[0]\n",
    "                posy=posy-2*vect_orthon[1]\n",
    "            if posx>1 or posx<0 or posy>1 or posy<0:                           #On sort encore du carré, le fragment est fini\n",
    "                return x,y\n",
    "\n",
    "        i+=1\n",
    "\n",
    "        if grad[0]==0.0:            #Pour une direction verticale\n",
    "            x.append(posx)\n",
    "            y.append(find_seed(lambda t:f(posx,t),c,max(posy-delta,0),min(posy+delta,1)))  \n",
    "            #on fait une dichotomie sur la droite orhtogonale au gradient passant par le point déterminé précédemment, on cherche un point distant              #de plus ou moins delta de la position précédente.\n",
    "\n",
    "        else :\n",
    "            t=find_seed(lambda t:f(t,posy+(t-posx)*grad[1]/grad[0]),c,max(posx-delta,0),min(posx+delta,1)) \n",
    "            #idem : dichotomie sur la droite orthogonale au gradient                                                                                                                                           \n",
    "            x.append(t)\n",
    "            try :\n",
    "                y.append(posy+(t-posx)*grad[1]/grad[0]) \n",
    "            except:\n",
    "                y.append(0)\n",
    "    return x,y"
   ]
  },
  {
   "cell_type": "markdown",
   "metadata": {},
   "source": [
    "### Exemple"
   ]
  },
  {
   "cell_type": "code",
   "execution_count": null,
   "metadata": {},
   "outputs": [],
   "source": [
    "plt.close()\n",
    "x,y=simple_contour(f_test,0.01)\n",
    "plt.plot(x,y)\n",
    "plt.show()"
   ]
  },
  {
   "cell_type": "markdown",
   "metadata": {},
   "source": [
    "Résultat beaucoup plus satisfaisant !!"
   ]
  },
  {
   "cell_type": "markdown",
   "metadata": {},
   "source": [
    "## Contour complexe"
   ]
  },
  {
   "cell_type": "markdown",
   "metadata": {},
   "source": [
    "On cherche maintenant à tracer le contour d'une fonction dans un cadre général c'est-à-dire pour un domaine quelconque. Pour cela, on découpe le domaine en cellules carrées (grâce à xc et yc). On peut alors exploiter la méthode utilisée pour le contour simple sur chacune de ces cellules en renormalisant le domaine et en cherchant cette fois des amorces sur toute la frontière de la cellule.\n",
    "On récupère alors un ensemble de fragments de contour qui permettent finalement de réaliser le tracé de contour voulu."
   ]
  },
  {
   "cell_type": "markdown",
   "metadata": {},
   "source": [
    "Tout d'abord, afin d'effectuer une recherche d'amorce sur tous les bords de la cellule nous avons besoin de réaliser des rotations sur la fonction initiale: nous implémentons donc une fonction rotation."
   ]
  },
  {
   "cell_type": "code",
   "execution_count": null,
   "metadata": {},
   "outputs": [],
   "source": [
    "def rotation(g):      #Si g est définie sur [0,1]x[0,1], renvoie la fonction g rotationnée de pi/2 de centre de rotation [1/2,1/2]\n",
    "    return lambda x,y : g(y,1-x)"
   ]
  },
  {
   "cell_type": "markdown",
   "metadata": {},
   "source": [
    "Nous pouvons maintenant implémenter la fonction qui va nous renvoyer les fragments du contour voulu."
   ]
  },
  {
   "cell_type": "code",
   "execution_count": null,
   "metadata": {},
   "outputs": [],
   "source": [
    "def contour(f,c=0.0,xc=[0.0,1.0], yc=[0.0,1.0], delta=0.01):\n",
    "\n",
    "    xs=[]                         # Initialisation des listes qui vont contenir les abcisses et les ordonnées de la ligne de niveau\n",
    "    ys=[]\n",
    "    for i in range(len(xc)-1):\n",
    "        for j in range(len(yc)-1):    # On parcourt les rectangles du quadrillage\n",
    "            deb_x=xc[i]               # On a besoin des coordonnées des sommets du rectangle dans lequel on veut tracer un fragment de ligne de niveau pour se ramener à une fonction définie dans [0,1]x[0,1]\n",
    "            fin_x=xc[i+1]\n",
    "            deb_y=yc[j]\n",
    "            fin_y=yc[j+1]\n",
    "            ecart_x=fin_x-deb_x\n",
    "            ecart_y=fin_y-deb_y\n",
    "\n",
    "            def f_nor(x,y):                # On se ramène à une fonction 'normalisée' définie sur [0,1]x[0,1]\n",
    "                return f(x*ecart_x+deb_x,y*ecart_y+deb_y)\n",
    "\n",
    "            def ajout_renormalisation(liste_x,liste_y):    # On définit une fonction qui nous permettra de 'renormaliser' les points obtenus pour f_nor pour qu'ils correspondent à f_nor\n",
    "                for x in liste_x:\n",
    "                    xs.append(x*ecart_x+deb_x)\n",
    "                for y in liste_y:\n",
    "                    ys.append(y*ecart_y+deb_y)\n",
    "\n",
    "            x_gauche,y_gauche=simple_contour(f_nor,c,delta)                 # On cherche un fragment de ligne de niveau en partant du coté gauche du carré [0,1]x[0,1]\n",
    "            x_haut,y_haut=simple_contour(rotation(f_nor),c,delta)  # Idem en partant du haut\n",
    "            x_droite,y_droite=simple_contour(rotation(rotation(f_nor)),c,delta)   # Puis de le droite \n",
    "            x_bas,y_bas=simple_contour(rotation(rotation(rotation(f_nor))),c,delta)  #Et enfin du bas \n",
    " \n",
    "            ajout_renormalisation(x_gauche,y_gauche)\n",
    "            ajout_renormalisation(y_haut,[1-x for x in x_haut])                             # Puis on retourne les valeurs trouvées pour qu'elles \n",
    "            ajout_renormalisation([1-x for x in x_droite],[1-y for y in y_droite])          # correspondent bien à f_nor.\n",
    "            ajout_renormalisation([1-y for y in y_bas],x_bas)\n",
    "\n",
    "    return xs,ys   # On retourne le résultat"
   ]
  },
  {
   "cell_type": "markdown",
   "metadata": {},
   "source": [
    "### Test"
   ]
  },
  {
   "cell_type": "markdown",
   "metadata": {},
   "source": [
    "On réalise le test de ce programme avec la fonction $f(x,y)=2(g(x,y)-h(x,y))$ où $g(x,y)=\\exp(-x^2-y^2)$ et $h(x,y)=\\exp(-(x-1)^2-(y-1)^2)$."
   ]
  },
  {
   "cell_type": "code",
   "execution_count": null,
   "metadata": {},
   "outputs": [],
   "source": [
    "def g(x,y):\n",
    "    return np.exp(-np.power(x,2)-np.power(y,2))\n",
    "def h(x,y):\n",
    "    return g(x-1,y-1)\n",
    "\n",
    "def f_test2(x,y):\n",
    "    return 2*(g(x,y)-h(x,y))"
   ]
  },
  {
   "cell_type": "code",
   "execution_count": null,
   "metadata": {},
   "outputs": [],
   "source": [
    "# Aspect de cette nouvelle fonction\n",
    "\n",
    "domain_x=np.linspace(-3,3,100)\n",
    "domain_y=np.linspace(-3,3,100)\n",
    "\n",
    "X,Y=np.meshgrid(domain_x, domain_y)      # Création de la grille\n",
    "\n",
    "Z=f_test2(X,Y)                            # création des valeurs \n",
    "\n",
    "fig=plt.figure()\n",
    "ax=Axes3D(fig)\n",
    "ax.plot_surface(X, Y, Z)                 # Tracé de la fonction"
   ]
  },
  {
   "cell_type": "markdown",
   "metadata": {},
   "source": [
    "Finalement on peut tracer les lignes de niveau de la fonction test."
   ]
  },
  {
   "cell_type": "code",
   "execution_count": null,
   "metadata": {},
   "outputs": [],
   "source": [
    "from scipy import*\n",
    "quadri=linspace(-2,3,10).tolist()\n",
    "plt.close()\n",
    "for n in [-1.5,-1.0,-0.5,0.0,0.5,1.0,1.5]:\n",
    "    x,y=contour(f_test2,n,quadri,quadri)\n",
    "    plt.scatter(x,y,s=1)\n",
    "plt.xlim(-2.0,3.0)\n",
    "plt.ylim(-2.0,3.0)\n",
    "plt.show()"
   ]
  },
  {
   "cell_type": "markdown",
   "metadata": {},
   "source": [
    "## Conclusion"
   ]
  },
  {
   "cell_type": "markdown",
   "metadata": {},
   "source": [
    "Améliorations possibles : "
   ]
  },
  {
   "cell_type": "markdown",
   "metadata": {},
   "source": [
    "Dans notre version du programme, les points ne sont pas vraiment espacés de delta. On pourrait modifier notre programme pour qu'il fasse une dichotomie sur un cercle de rayon delta et centré sur le point que l'on vient de trouver pour qu'on ait les points espacés exactement de delta.\n"
   ]
  },
  {
   "cell_type": "markdown",
   "metadata": {},
   "source": [
    "On pourrait aussi utiliser une méthode de Newton plutôt qu'une dichotomie ce qui convergerait plus vite."
   ]
  }
 ],
 "metadata": {
  "file_extension": ".py",
  "kernelspec": {
   "display_name": "Python 3",
   "language": "python",
   "name": "python3"
  },
  "language_info": {
   "codemirror_mode": {
    "name": "ipython",
    "version": 3
   },
   "file_extension": ".py",
   "mimetype": "text/x-python",
   "name": "python",
   "nbconvert_exporter": "python",
   "pygments_lexer": "ipython3",
   "version": "3.7.3"
  },
  "mimetype": "text/x-python",
  "name": "python",
  "npconvert_exporter": "python",
  "pygments_lexer": "ipython3",
  "version": 3
 },
 "nbformat": 4,
 "nbformat_minor": 2
}
